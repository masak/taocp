{
 "cells": [
  {
   "cell_type": "markdown",
   "id": "78a6fdce",
   "metadata": {},
   "source": [
    "By assumption, we've shown that $2 \\ldots n - 1$ can all be written as products of one or more prime numbers. Let's now examine $n$."
   ]
  },
  {
   "cell_type": "markdown",
   "id": "af65736b",
   "metadata": {},
   "source": [
    "* **Case I**: $n$ is prime. In this case, we are done; $n$ can be written as a product of one or more prime numbers."
   ]
  },
  {
   "cell_type": "markdown",
   "id": "5ff9c356",
   "metadata": {},
   "source": [
    "* **Case II**: $n$ is not prime. By definition of ``prime'', this means that $n$ _does_ have a divisor other than itself and $1$. Let's name this divisor $p$. Then there's also a number $q$ such that $p q = n$. $p$ and $q$ can each be written as a product of one or more prime numbers; juxtaposing these gives $n$ as a product of primes."
   ]
  }
 ],
 "metadata": {
  "kernelspec": {
   "display_name": "Python 3",
   "language": "python",
   "name": "python3"
  },
  "language_info": {
   "codemirror_mode": {
    "name": "ipython",
    "version": 3
   },
   "file_extension": ".py",
   "mimetype": "text/x-python",
   "name": "python",
   "nbconvert_exporter": "python",
   "pygments_lexer": "ipython3",
   "version": "3.8.8"
  }
 },
 "nbformat": 4,
 "nbformat_minor": 5
}
